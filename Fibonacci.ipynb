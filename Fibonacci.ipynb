{
  "nbformat": 4,
  "nbformat_minor": 0,
  "metadata": {
    "colab": {
      "name": "Fibonacci.ipynb",
      "provenance": [],
      "include_colab_link": true
    },
    "kernelspec": {
      "name": "python3",
      "display_name": "Python 3"
    },
    "accelerator": "GPU"
  },
  "cells": [
    {
      "cell_type": "markdown",
      "metadata": {
        "id": "view-in-github",
        "colab_type": "text"
      },
      "source": [
        "<a href=\"https://colab.research.google.com/github/NgoHoangHuy-18520838/CS114.K21/blob/master/Fibonacci.ipynb\" target=\"_parent\"><img src=\"https://colab.research.google.com/assets/colab-badge.svg\" alt=\"Open In Colab\"/></a>"
      ]
    },
    {
      "cell_type": "code",
      "metadata": {
        "id": "e2EQuRvcOlPj",
        "colab_type": "code",
        "outputId": "a7645bec-f5a7-43bd-c564-5bb3cc8b6585",
        "colab": {
          "base_uri": "https://localhost:8080/",
          "height": 52
        }
      },
      "source": [
        "x = int(input())\n",
        "\n",
        "def fibonacci(n):\n",
        "    if n == 1:\n",
        "      return 1\n",
        "    if n == 2:\n",
        "      return 1\n",
        "    if(n > 2):\n",
        "      return fibonacci(n-1) + fibonacci(n-2)\n",
        "\n",
        "if x>0 and x<31 :\n",
        "  print (fibonacci(x))\n",
        "else:\n",
        "  print (\"So \" +str(x)+ \" khong nam trong khoang [1,30].\")\n",
        "\n",
        "  \n"
      ],
      "execution_count": 2,
      "outputs": [
        {
          "output_type": "stream",
          "text": [
            "6\n",
            "8\n"
          ],
          "name": "stdout"
        }
      ]
    }
  ]
}